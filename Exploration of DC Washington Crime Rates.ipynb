{
 "cells": [
  {
   "cell_type": "code",
   "execution_count": null,
   "id": "130c1f07",
   "metadata": {},
   "outputs": [],
   "source": [
    "import pandas as pd\n",
    "import seaborn as sns\n",
    "from matplotlib import rcParams\n",
    "import matplotlib as plt\n",
    "import plotly.express as px\n",
    "import folium\n",
    "from folium.plugins import HeatMap\n",
    "from folium.plugins import MarkerCluster\n",
    "\n",
    "crimes = pd.read_csv(r'C:\\Users\\user\\OneDrive\\Desktop\\PCPP\\Project\\dc_crime_add_vars.csv')\n",
    "\n",
    "crimes.head(3)"
   ]
  },
  {
   "cell_type": "code",
   "execution_count": null,
   "id": "2fcc787a",
   "metadata": {},
   "outputs": [],
   "source": [
    "#copy crimes into crimes_df\n",
    "crimes_df = crimes.copy(deep=True)\n",
    "crimes_df['REPORT_DAT']\n",
    "report_date = []\n",
    "\n",
    "#splitting the string data in 'REPORT_DAT' to get the dates and append it into a new column named 'Report Dates'\n",
    "for elem in crimes_df['REPORT_DAT']:\n",
    "    \n",
    "    report_date.append(elem.split(\" \")[0])    \n",
    "    \n",
    "crimes_df['Report Dates'] = report_date\n",
    "#drop unrelated columns\n",
    "crimes_df = crimes_df.drop([\"Unnamed: 0\",'X'], axis=1).sort_values(by='Report Dates').reset_index(drop=True)\n",
    "crimes_df.head(3).T"
   ]
  },
  {
   "cell_type": "code",
   "execution_count": null,
   "id": "60419b1f",
   "metadata": {},
   "outputs": [],
   "source": [
    "crimes_df.shape"
   ]
  },
  {
   "cell_type": "code",
   "execution_count": null,
   "id": "af63d34f",
   "metadata": {},
   "outputs": [],
   "source": [
    "crimes_df['count'] = '1'\n",
    "crimes_df.head(2)"
   ]
  },
  {
   "cell_type": "code",
   "execution_count": null,
   "id": "064bde51",
   "metadata": {},
   "outputs": [],
   "source": [
    "#rename YBLOCK XBLOCK as Latitude and Longitude\n",
    "crimes_df = crimes_df.rename(columns={'YBLOCK': 'Latitude', 'XBLOCK': 'Longitude'})\n",
    "crimes_df.head().T\n",
    "points = []\n",
    "for index, row in crimes_df.iterrows():  \n",
    "    points.append(str(row['Latitude'])+\",\"+str(row['Longitude']))\n",
    "    \n",
    "#input 'Geopoints' as one of the columns\n",
    "crimes_df['Geopoints'] = points\n",
    "crimes_df.head(3)"
   ]
  },
  {
   "cell_type": "code",
   "execution_count": null,
   "id": "a3d99322",
   "metadata": {},
   "outputs": [],
   "source": [
    "trend = sns.catplot(x='year', data=crimes_df, kind = 'count',height =6, color='steelblue').set(title=\"Crime Trends Over the Years\")\n",
    "trend.set_axis_labels('Year', 'Number of Crimes')\n",
    "\n",
    "\"\"\"observation\n",
    "- highest crime year 2014\n",
    "-generally on an increase trend over the years, 2017 data incomplete as it ended at 9/9/2017\n",
    "\"\"\""
   ]
  },
  {
   "cell_type": "code",
   "execution_count": null,
   "id": "816d59b3",
   "metadata": {},
   "outputs": [],
   "source": [
    "yr_2017 = crimes_df.loc[(crimes_df.year == 2017)]\n",
    "yr_2017.tail().T"
   ]
  },
  {
   "cell_type": "code",
   "execution_count": null,
   "id": "888bbd95",
   "metadata": {},
   "outputs": [],
   "source": [
    "trend2 = sns.catplot(x='OFFENSE', data=crimes_df, kind = 'count',height =6, color='steelblue').set(title=\"Common Crime Types\")\n",
    "trend2.set_axis_labels('Crime Types', 'Crime Rate')\n",
    "trend2.set_xticklabels(rotation = 90)"
   ]
  },
  {
   "cell_type": "code",
   "execution_count": null,
   "id": "3b0b0913",
   "metadata": {},
   "outputs": [],
   "source": [
    "trend3 = sns.catplot(x='METHOD', data=crimes_df, kind = 'count',height =6, color='steelblue').set(title=\"Common Crime Methods Used\")\n",
    "trend3.set_axis_labels('Crime Methods', 'Crime rate')\n",
    "trend3.set_xticklabels(rotation = 90)"
   ]
  },
  {
   "cell_type": "code",
   "execution_count": null,
   "id": "0311f26e",
   "metadata": {},
   "outputs": [],
   "source": [
    "trend4 = sns.catplot(x='SHIFT', data=crimes_df, kind = 'count',height =6, color='steelblue').set(title=\"Crime and Shifts\")\n",
    "trend4.set_axis_labels('Shifts', 'Crime Rate')\n",
    "trend4.set_xticklabels(rotation = 90)"
   ]
  },
  {
   "cell_type": "code",
   "execution_count": null,
   "id": "179e6b55",
   "metadata": {},
   "outputs": [],
   "source": [
    "trend5 = sns.catplot(x='PSA', data=crimes_df, kind = 'count', color='steelblue').set(title=\"Police Service Area VS Crime Rates\")\n",
    "trend5.set_axis_labels('No. of Police Serviced Areas', 'Crime Rate')\n",
    "trend5.set_xticklabels(rotation = 90)\n",
    "trend5.fig.set_figwidth(8)\n",
    "trend5.fig.set_figheight(12)"
   ]
  },
  {
   "cell_type": "code",
   "execution_count": null,
   "id": "5bf1a2eb",
   "metadata": {},
   "outputs": [],
   "source": [
    "crimes_df.isnull().sum()"
   ]
  },
  {
   "cell_type": "code",
   "execution_count": null,
   "id": "470dbfb6",
   "metadata": {},
   "outputs": [],
   "source": [
    "missing_df = crimes_df.copy()\n",
    "missing_df.START_DATE = missing_df.START_DATE.fillna(0)\n",
    "missing_start = missing_df.loc[(missing_df.START_DATE == 0)]\n",
    "missing_start"
   ]
  },
  {
   "cell_type": "code",
   "execution_count": null,
   "id": "d5b8647d",
   "metadata": {},
   "outputs": [],
   "source": [
    "violent = missing_start.loc[(missing_start.crimetype == \"Violent\")]\n",
    "non_violent = missing_start.loc[(missing_start.crimetype == \"Non-Violent\")]\n",
    "violent.head(3)"
   ]
  },
  {
   "cell_type": "code",
   "execution_count": null,
   "id": "772f5569",
   "metadata": {},
   "outputs": [],
   "source": [
    "missing_start_date = sns.catplot(x='crimetype', data=missing_start, kind = 'count',height =6, color='steelblue').set(title=\"Data with Missing Start Date\")\n",
    "missing_start_date.set_axis_labels('crimetype', 'Crime Rate')\n"
   ]
  },
  {
   "cell_type": "code",
   "execution_count": null,
   "id": "00b1d4b7",
   "metadata": {},
   "outputs": [],
   "source": [
    "crime_type = sns.catplot(x='OFFENSE', data=non_violent, kind = 'count',height =6, color='steelblue').set(title=\"Offense of Non-Violent cases in missing Start Dates\")\n",
    "crime_type.set_axis_labels('OFFENSE', 'Crime Rate')"
   ]
  },
  {
   "cell_type": "code",
   "execution_count": null,
   "id": "821bf910",
   "metadata": {},
   "outputs": [],
   "source": [
    "crime_type = sns.catplot(x='OFFENSE', data=violent, kind = 'count',height =6, color='steelblue').set(title=\"Offense of Non-Violent cases in missing Start Dates\")\n",
    "crime_type.set_axis_labels('OFFENSE', 'Crime Rate')"
   ]
  },
  {
   "cell_type": "code",
   "execution_count": null,
   "id": "90e4e075",
   "metadata": {},
   "outputs": [],
   "source": [
    "\"\"\"from above graphs I am guessing that reason behind for the missing start of case dates could be that the victims \n",
    "did not survive the assault thus it might have resulted in other people reporting it at a later date.\n",
    "For non-violent cases, maybe the mode of communication was lost during the crime eg. thefts\n",
    "Although the missing data was small, 13 missing START_DATE values it still provided interesting insights\"\"\""
   ]
  },
  {
   "cell_type": "code",
   "execution_count": null,
   "id": "fb470ece",
   "metadata": {},
   "outputs": [],
   "source": [
    "#decides to fill null of START_DATE with REPORT_DAT\n",
    "crimes_df.START_DATE = crimes_df.START_DATE.fillna(crimes_df.REPORT_DAT)"
   ]
  },
  {
   "cell_type": "code",
   "execution_count": null,
   "id": "8fa2c53d",
   "metadata": {},
   "outputs": [],
   "source": [
    "#checking if fillna was done right\n",
    "crimes_df.loc[(crimes_df.REPORT_DAT == \"1/15/2015 11:25:00 AM\")].T"
   ]
  },
  {
   "cell_type": "code",
   "execution_count": null,
   "id": "1b8ed88e",
   "metadata": {},
   "outputs": [],
   "source": [
    "crimes_df.isnull().sum()"
   ]
  },
  {
   "cell_type": "code",
   "execution_count": null,
   "id": "3eaf9340",
   "metadata": {},
   "outputs": [],
   "source": [
    "#fill \"N/A\" for all other missing data\n",
    "crimes_df = crimes_df.fillna(\"N/A\")\n",
    "crimes_df.isnull().sum()"
   ]
  },
  {
   "cell_type": "code",
   "execution_count": null,
   "id": "e256560c",
   "metadata": {},
   "outputs": [],
   "source": [
    "\"\"\"As 2014 is has the highest crime rate out of all in the dataset, I will explore more on it\"\"\"\n",
    "#choosing year 2014 for comparison as it has the highest crime rates \n",
    "#as 2017 data is incomplete and 2016 crime rate seems similar to 2015\n",
    "crimes_2014 = crimes_df.loc[(crimes_df['year']=='2014')]\n",
    "crimes_2014.reset_index(drop=True, inplace=True)\n",
    "\"\"\"Used to get Neighbourhood and Postal code from coordinates using geopy\"\"\"\n",
    "\"\"\"takes forever to load, already save results in crimes_2014.csv\"\"\"\n",
    "# from geopy.geocoders import Nominatim\n",
    "# geolocator = Nominatim(user_agent=\"geoapiExercises\")\n",
    "# Neighbourhood = []\n",
    "# Postal = []\n",
    "# # Latitude & Longitude input\n",
    "# for index, row in crimes_2014.iterrows():\n",
    "# #     print(row['Latitude'])\n",
    "#     location = geolocator.reverse(row['Geopoints'])\n",
    "    \n",
    "# #     print(location)\n",
    "#     hood = location.raw.get('address').get('neighbourhood')\n",
    "#     postal = location.raw.get('address').get('postcode')\n",
    "# #     print(hood,\" \",postal)\n",
    "#     Neighbourhood.append(hood)\n",
    "#     Postal.append(postal)\n",
    "#     #print for every 50 index\n",
    "#     if index % 50 == 0:\n",
    "#         print(index, Neighbourhood[-1],Postal[-1])\n",
    "\n",
    "# crimes_2014['Neighbourhood'] = Neighbourhood\n",
    "# crimes_2014['Postal'] = Postal\n",
    "\n",
    "# #save file as crimes_2014.csv\n",
    "# crimes_2014.to_csv('crimes_2014.csv', index=False)\n",
    "\n",
    "\"\"\"end of code\"\"\"\n",
    "\"\"\"Tree map data preparation\"\"\"\n",
    "#read file from newly created crimes_2014.csv\n",
    "crimes_2014 = pd.read_csv(r'C:\\Users\\user\\OneDrive\\Desktop\\PCPP\\Project\\crimes_2014.csv')\n",
    "\n",
    "#replacing all null values in column Neighbourhood to 'Others'\n",
    "crimes_2014['Neighbourhood'] = crimes_2014['Neighbourhood'].fillna('Others')\n",
    "\n",
    "#set a column as index\n",
    "crimes_2014['crimes'] = crimes_2014.index\n",
    "\n",
    "#set a column as all ones to count the number of crimes\n",
    "crimes_2014['count'] = 1\n",
    "\n",
    "#drop all null values in crimes_2014\n",
    "crimes_2014.dropna(inplace = True)\n",
    "crimes_2014.isnull().sum()\n",
    "#dropping 'Others' in Neighbourhood column of crimes_2014 to see clear pattern in Treemap\n",
    "crimes_2014_hood = crimes_2014[crimes_2014.Neighbourhood != 'Others']\n",
    "crimes_2014_hood['Neighbourhood']\n",
    "\n",
    "\n",
    "'''\n",
    "Treemap was to find which neighbourhood has the most crime rates\n",
    "\n",
    "'''\n",
    "\n",
    "fig = px.treemap(crimes_2014_hood,values='count', color='crimes', \n",
    "                 color_continuous_scale='RdBu_r',\n",
    "                 path=[px.Constant('Washington DC Yr 2014'),'DISTRICT','Neighbourhood','crimetype']\n",
    ")\n",
    "fig.data[0].hovertemplate = \"%{label}<br>Crimes:%{value}\"\n",
    "fig.show()"
   ]
  },
  {
   "cell_type": "code",
   "execution_count": null,
   "id": "dd7fe2a3",
   "metadata": {},
   "outputs": [],
   "source": [
    "#to show concentration of violent crimes in DC washington on map\n",
    "fmap = folium.Map(location=[38.89511, -77.03637], height=400, width=1000, zoom_start=12)\n",
    "\n",
    "violent_crime = crimes_df.loc[(crimes_df.crimetype == \"Violent\")]\n",
    "latlong = []\n",
    "lat = list(violent_crime.Latitude)\n",
    "lon = list(violent_crime.Longitude)\n",
    "\n",
    "\n",
    "for i in range(len(violent_crime)):\n",
    "    latlong += [[lat[i],lon[i]]]\n",
    "    \n",
    "HeatMap(latlong,radius=8,gradient={'0':'Navy', '0.25':'Blue','0.5':'Green', '0.75':'Red','1': 'Black'}).add_to(fmap)\n",
    "fmap\n"
   ]
  },
  {
   "cell_type": "code",
   "execution_count": null,
   "id": "9966c028",
   "metadata": {},
   "outputs": [],
   "source": [
    "offense = list(crimes_df.OFFENSE)\n",
    "\n",
    "cluster_map = folium.Map(location=[38.89511, -77.03637], height=400, width=1000, zoom_start=12)\n",
    "marker_cluster = MarkerCluster().add_to(cluster_map)\n",
    "\n",
    "for i in range(len(latlong)):\n",
    "    \n",
    "    folium.Marker(\n",
    "        location=latlong[i],\n",
    "        popup = offense[i],\n",
    "        radius = 3,\n",
    "        tooltip=\"Click to view type of offense\",\n",
    "        color='#FFBA00',\n",
    "        fill_color='#FFBA00'\n",
    "    ).add_to(marker_cluster)\n",
    "\n",
    "cluster_map",
    "#Folium heatmap and MarkerCluster gave a clearer visuals on where the crime clusters are as compared to Treemap\n"
   ]
  }
 ],
 "metadata": {
  "kernelspec": {
   "display_name": "Python 3 (ipykernel)",
   "language": "python",
   "name": "python3"
  },
  "language_info": {
   "codemirror_mode": {
    "name": "ipython",
    "version": 3
   },
   "file_extension": ".py",
   "mimetype": "text/x-python",
   "name": "python",
   "nbconvert_exporter": "python",
   "pygments_lexer": "ipython3",
   "version": "3.9.7"
  }
 },
 "nbformat": 4,
 "nbformat_minor": 5
}
